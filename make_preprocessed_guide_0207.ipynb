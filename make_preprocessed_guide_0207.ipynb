{
 "cells": [
  {
   "cell_type": "code",
   "execution_count": 42,
   "metadata": {},
   "outputs": [
    {
     "name": "stdout",
     "output_type": "stream",
     "text": [
      "/mnt/hdd-nfs/vcx/Document-Intelligence/logicker/repo/di-flow-bb5/di-flow/src/diflow/langchain/preprocess/ncloudcs_1029\n"
     ]
    }
   ],
   "source": [
    "%cd /mnt/hdd-nfs/vcx/Document-Intelligence/logicker/repo/di-flow-bb5/di-flow/src/diflow/langchain/preprocess/ncloudcs_1029/"
   ]
  },
  {
   "cell_type": "markdown",
   "metadata": {},
   "source": [
    "## 문서 병합"
   ]
  },
  {
   "cell_type": "code",
   "execution_count": 43,
   "metadata": {},
   "outputs": [],
   "source": [
    "import pandas as pd\n",
    "\n",
    "df = pd.read_csv('docs.csv')"
   ]
  },
  {
   "cell_type": "code",
   "execution_count": 44,
   "metadata": {},
   "outputs": [
    {
     "data": {
      "text/html": [
       "<div>\n",
       "<style scoped>\n",
       "    .dataframe tbody tr th:only-of-type {\n",
       "        vertical-align: middle;\n",
       "    }\n",
       "\n",
       "    .dataframe tbody tr th {\n",
       "        vertical-align: top;\n",
       "    }\n",
       "\n",
       "    .dataframe thead th {\n",
       "        text-align: right;\n",
       "    }\n",
       "</style>\n",
       "<table border=\"1\" class=\"dataframe\">\n",
       "  <thead>\n",
       "    <tr style=\"text-align: right;\">\n",
       "      <th></th>\n",
       "      <th>idx</th>\n",
       "      <th>작업자</th>\n",
       "      <th>주소</th>\n",
       "      <th>좌측 메뉴 상의 상하위 관계</th>\n",
       "      <th>페이지 내의 상하위 관계\\n\\n(B셀에 언급된 페이지 제목은 적지 않으며\\n대제목 중제목 소제목 순으로 기재합니다.\\n현재 내용이 어디 내용인지를 알기 위함입니다.)</th>\n",
       "      <th>내용 (문맥 별로 분리해서 적습니다. 단, 너무 길 경우에는 여러 개로 나눠도 됩니다. C셀에 페이지 상하위 관계만 잘 적어주세요.)</th>\n",
       "      <th>GPT를 통해 정제한 경우\\n데모에 입력한 원문 텍스트를 입력해주세요\\n(GPT 사용 여부와 관계없이 홈페이지에서 긁어온 데이터 원문을 여기에 입력해주세요)</th>\n",
       "      <th>미사용: v\\n숫자가 동일하면 결합</th>\n",
       "      <th>수정작업자</th>\n",
       "      <th>코드 여부</th>\n",
       "      <th>비고</th>\n",
       "    </tr>\n",
       "  </thead>\n",
       "  <tbody>\n",
       "    <tr>\n",
       "      <th>0</th>\n",
       "      <td>1</td>\n",
       "      <td>박근영</td>\n",
       "      <td>https://guide.ncloud-docs.com/docs/userguide-u...</td>\n",
       "      <td>포털 및 콘솔 &gt; 포털 및 콘솔 개요</td>\n",
       "      <td>-</td>\n",
       "      <td>Classic/VPC 환경에서 이용 가능합니다.\\n\\n네이버클라우드의 검증된 IT ...</td>\n",
       "      <td>Classic/VPC 환경에서 이용 가능합니다.\\n\\n네이버클라우드의 검증된 IT ...</td>\n",
       "      <td>v</td>\n",
       "      <td>NaN</td>\n",
       "      <td>NaN</td>\n",
       "      <td>NaN</td>\n",
       "    </tr>\n",
       "    <tr>\n",
       "      <th>1</th>\n",
       "      <td>2</td>\n",
       "      <td>박근영</td>\n",
       "      <td>https://guide.ncloud-docs.com/docs/userguide-u...</td>\n",
       "      <td>포털 및 콘솔 &gt; 포털 및 콘솔 개요</td>\n",
       "      <td>포털 및 콘솔이 제공하는 다양한 기능</td>\n",
       "      <td>네이버 클라우드 플랫폼의 포털 및 콘솔이 제공하는 다양한 기능에 대한 설명은 다음과...</td>\n",
       "      <td>네이버 클라우드 플랫폼의 포털 및 콘솔이 제공하는 다양한 기능에 대한 설명은 다음과...</td>\n",
       "      <td>v</td>\n",
       "      <td>NaN</td>\n",
       "      <td>NaN</td>\n",
       "      <td>NaN</td>\n",
       "    </tr>\n",
       "    <tr>\n",
       "      <th>2</th>\n",
       "      <td>3</td>\n",
       "      <td>박근영</td>\n",
       "      <td>https://guide.ncloud-docs.com/docs/userguide-u...</td>\n",
       "      <td>포털 및 콘솔 &gt; 포털 및 콘솔 개요</td>\n",
       "      <td>포털 및 콘솔 사용 가이드 안내</td>\n",
       "      <td>포털 및 콘솔 사용 가이드는 사용자가 효과적으로 네이버 클라우드 플랫폼의 포털 및 ...</td>\n",
       "      <td>포털 및 콘솔 사용 가이드는 사용자가 효과적으로 네이버 클라우드 플랫폼의 포털 및 ...</td>\n",
       "      <td>v</td>\n",
       "      <td>NaN</td>\n",
       "      <td>NaN</td>\n",
       "      <td>고객지원 링크 404 에러</td>\n",
       "    </tr>\n",
       "    <tr>\n",
       "      <th>3</th>\n",
       "      <td>4</td>\n",
       "      <td>박근영</td>\n",
       "      <td>https://guide.ncloud-docs.com/docs/userguide-u...</td>\n",
       "      <td>포털 및 콘솔 &gt; 포털 및 콘솔 개요</td>\n",
       "      <td>포털 및 콘솔 연관 리소스</td>\n",
       "      <td>네이버 클라우드 플랫폼에서는 포털 및 콘솔에 대한 고객의 이해를 돕기 위해 사용 가...</td>\n",
       "      <td>네이버 클라우드 플랫폼에서는 포털 및 콘솔에 대한 고객의 이해를 돕기 위해 사용 가...</td>\n",
       "      <td>v</td>\n",
       "      <td>NaN</td>\n",
       "      <td>NaN</td>\n",
       "      <td>NaN</td>\n",
       "    </tr>\n",
       "    <tr>\n",
       "      <th>4</th>\n",
       "      <td>5</td>\n",
       "      <td>박근영</td>\n",
       "      <td>https://guide.ncloud-docs.com/docs/userguide-u...</td>\n",
       "      <td>포털 및 콘솔 &gt; 포털 및 콘솔 개요</td>\n",
       "      <td>자주 하는 질문을 먼저 확인해 보십시오.</td>\n",
       "      <td>사용 가이드를 읽기 전 자주 하는 질문에 대한 답변으로 궁금증을 빠르게 해소할 수 ...</td>\n",
       "      <td>사용 가이드를 읽기 전 자주 하는 질문에 대한 답변으로 궁금증을 빠르게 해소할 수 ...</td>\n",
       "      <td>NaN</td>\n",
       "      <td>NaN</td>\n",
       "      <td>NaN</td>\n",
       "      <td>NaN</td>\n",
       "    </tr>\n",
       "    <tr>\n",
       "      <th>...</th>\n",
       "      <td>...</td>\n",
       "      <td>...</td>\n",
       "      <td>...</td>\n",
       "      <td>...</td>\n",
       "      <td>...</td>\n",
       "      <td>...</td>\n",
       "      <td>...</td>\n",
       "      <td>...</td>\n",
       "      <td>...</td>\n",
       "      <td>...</td>\n",
       "      <td>...</td>\n",
       "    </tr>\n",
       "    <tr>\n",
       "      <th>15468</th>\n",
       "      <td>15469</td>\n",
       "      <td>이지윤</td>\n",
       "      <td>https://guide.ncloud-docs.com/docs/objectmigra...</td>\n",
       "      <td>Migration &gt; Object Migration &gt; Object Migratio...</td>\n",
       "      <td>데이터 마이그레이션·Data Migration\\n</td>\n",
       "      <td>데이터 마이그레이션·Data Migration\\n이란 스토리지 또는 클라우드 환경 ...</td>\n",
       "      <td>스토리지 또는 클라우드 환경 간에 데이터를 이관하는 것</td>\n",
       "      <td>99999</td>\n",
       "      <td>박근영</td>\n",
       "      <td>NaN</td>\n",
       "      <td>NaN</td>\n",
       "    </tr>\n",
       "    <tr>\n",
       "      <th>15469</th>\n",
       "      <td>15470</td>\n",
       "      <td>이지윤</td>\n",
       "      <td>https://guide.ncloud-docs.com/docs/objectmigra...</td>\n",
       "      <td>Migration &gt; Object Migration &gt; Object Migratio...</td>\n",
       "      <td>리전·Region\\n</td>\n",
       "      <td>리전·Region이란 좀 더 효율적인 서비스 구축 지원을 위해 주요 거점에 구축한 ...</td>\n",
       "      <td>좀 더 효율적인 서비스 구축 지원을 위해 주요 거점에 구축한 인프라</td>\n",
       "      <td>99999</td>\n",
       "      <td>박근영</td>\n",
       "      <td>NaN</td>\n",
       "      <td>NaN</td>\n",
       "    </tr>\n",
       "    <tr>\n",
       "      <th>15470</th>\n",
       "      <td>15471</td>\n",
       "      <td>이지윤</td>\n",
       "      <td>https://guide.ncloud-docs.com/docs/objectmigra...</td>\n",
       "      <td>Migration &gt; Object Migration &gt; Object Migratio...</td>\n",
       "      <td>버킷·Bucket\\n</td>\n",
       "      <td>버킷·Bucket이란 데이터 저장 공간. 연관된 객체들을 그루핑한 최상위 디렉터리를...</td>\n",
       "      <td>데이터 저장 공간. 연관된 객체들을 그루핑한 최상위 디렉터리</td>\n",
       "      <td>99999</td>\n",
       "      <td>박근영</td>\n",
       "      <td>NaN</td>\n",
       "      <td>NaN</td>\n",
       "    </tr>\n",
       "    <tr>\n",
       "      <th>15471</th>\n",
       "      <td>15472</td>\n",
       "      <td>이지윤</td>\n",
       "      <td>https://guide.ncloud-docs.com/docs/objectmigra...</td>\n",
       "      <td>Migration &gt; Object Migration &gt; Object Migratio...</td>\n",
       "      <td>보안 키·Security Key\\n</td>\n",
       "      <td>보안 키·Security Key란 App Safer API 호출 시 사용자 및 앱 ...</td>\n",
       "      <td>App Safer API 호출 시 사용자 및 앱 인증을 위한 확인 장치\\n\\n참고\\...</td>\n",
       "      <td>99999</td>\n",
       "      <td>박근영</td>\n",
       "      <td>NaN</td>\n",
       "      <td>NaN</td>\n",
       "    </tr>\n",
       "    <tr>\n",
       "      <th>15472</th>\n",
       "      <td>15473</td>\n",
       "      <td>이지윤</td>\n",
       "      <td>https://guide.ncloud-docs.com/docs/objectmigra...</td>\n",
       "      <td>Migration &gt; Object Migration &gt; Object Migratio...</td>\n",
       "      <td>-</td>\n",
       "      <td>Classic/VPC 환경에서 이용 가능합니다.\\n\\nObject Migration...</td>\n",
       "      <td>Classic/VPC 환경에서 이용 가능합니다.\\n\\nObject Migration...</td>\n",
       "      <td>v</td>\n",
       "      <td>박근영</td>\n",
       "      <td>NaN</td>\n",
       "      <td>NaN</td>\n",
       "    </tr>\n",
       "  </tbody>\n",
       "</table>\n",
       "<p>15473 rows × 11 columns</p>\n",
       "</div>"
      ],
      "text/plain": [
       "         idx  작업자                                                 주소  \\\n",
       "0          1  박근영  https://guide.ncloud-docs.com/docs/userguide-u...   \n",
       "1          2  박근영  https://guide.ncloud-docs.com/docs/userguide-u...   \n",
       "2          3  박근영  https://guide.ncloud-docs.com/docs/userguide-u...   \n",
       "3          4  박근영  https://guide.ncloud-docs.com/docs/userguide-u...   \n",
       "4          5  박근영  https://guide.ncloud-docs.com/docs/userguide-u...   \n",
       "...      ...  ...                                                ...   \n",
       "15468  15469  이지윤  https://guide.ncloud-docs.com/docs/objectmigra...   \n",
       "15469  15470  이지윤  https://guide.ncloud-docs.com/docs/objectmigra...   \n",
       "15470  15471  이지윤  https://guide.ncloud-docs.com/docs/objectmigra...   \n",
       "15471  15472  이지윤  https://guide.ncloud-docs.com/docs/objectmigra...   \n",
       "15472  15473  이지윤  https://guide.ncloud-docs.com/docs/objectmigra...   \n",
       "\n",
       "                                         좌측 메뉴 상의 상하위 관계  \\\n",
       "0                                   포털 및 콘솔 > 포털 및 콘솔 개요   \n",
       "1                                   포털 및 콘솔 > 포털 및 콘솔 개요   \n",
       "2                                   포털 및 콘솔 > 포털 및 콘솔 개요   \n",
       "3                                   포털 및 콘솔 > 포털 및 콘솔 개요   \n",
       "4                                   포털 및 콘솔 > 포털 및 콘솔 개요   \n",
       "...                                                  ...   \n",
       "15468  Migration > Object Migration > Object Migratio...   \n",
       "15469  Migration > Object Migration > Object Migratio...   \n",
       "15470  Migration > Object Migration > Object Migratio...   \n",
       "15471  Migration > Object Migration > Object Migratio...   \n",
       "15472  Migration > Object Migration > Object Migratio...   \n",
       "\n",
       "      페이지 내의 상하위 관계\\n\\n(B셀에 언급된 페이지 제목은 적지 않으며\\n대제목 중제목 소제목 순으로 기재합니다.\\n현재 내용이 어디 내용인지를 알기 위함입니다.)  \\\n",
       "0                                                      -                                             \n",
       "1                                   포털 및 콘솔이 제공하는 다양한 기능                                             \n",
       "2                                      포털 및 콘솔 사용 가이드 안내                                             \n",
       "3                                         포털 및 콘솔 연관 리소스                                             \n",
       "4                                 자주 하는 질문을 먼저 확인해 보십시오.                                             \n",
       "...                                                  ...                                             \n",
       "15468                        데이터 마이그레이션·Data Migration\\n                                             \n",
       "15469                                        리전·Region\\n                                             \n",
       "15470                                        버킷·Bucket\\n                                             \n",
       "15471                                보안 키·Security Key\\n                                             \n",
       "15472                                                  -                                             \n",
       "\n",
       "      내용 (문맥 별로 분리해서 적습니다. 단, 너무 길 경우에는 여러 개로 나눠도 됩니다. C셀에 페이지 상하위 관계만 잘 적어주세요.)  \\\n",
       "0      Classic/VPC 환경에서 이용 가능합니다.\\n\\n네이버클라우드의 검증된 IT ...                           \n",
       "1      네이버 클라우드 플랫폼의 포털 및 콘솔이 제공하는 다양한 기능에 대한 설명은 다음과...                           \n",
       "2      포털 및 콘솔 사용 가이드는 사용자가 효과적으로 네이버 클라우드 플랫폼의 포털 및 ...                           \n",
       "3      네이버 클라우드 플랫폼에서는 포털 및 콘솔에 대한 고객의 이해를 돕기 위해 사용 가...                           \n",
       "4      사용 가이드를 읽기 전 자주 하는 질문에 대한 답변으로 궁금증을 빠르게 해소할 수 ...                           \n",
       "...                                                  ...                           \n",
       "15468  데이터 마이그레이션·Data Migration\\n이란 스토리지 또는 클라우드 환경 ...                           \n",
       "15469  리전·Region이란 좀 더 효율적인 서비스 구축 지원을 위해 주요 거점에 구축한 ...                           \n",
       "15470  버킷·Bucket이란 데이터 저장 공간. 연관된 객체들을 그루핑한 최상위 디렉터리를...                           \n",
       "15471  보안 키·Security Key란 App Safer API 호출 시 사용자 및 앱 ...                           \n",
       "15472  Classic/VPC 환경에서 이용 가능합니다.\\n\\nObject Migration...                           \n",
       "\n",
       "      GPT를 통해 정제한 경우\\n데모에 입력한 원문 텍스트를 입력해주세요\\n(GPT 사용 여부와 관계없이 홈페이지에서 긁어온 데이터 원문을 여기에 입력해주세요)  \\\n",
       "0      Classic/VPC 환경에서 이용 가능합니다.\\n\\n네이버클라우드의 검증된 IT ...                                        \n",
       "1      네이버 클라우드 플랫폼의 포털 및 콘솔이 제공하는 다양한 기능에 대한 설명은 다음과...                                        \n",
       "2      포털 및 콘솔 사용 가이드는 사용자가 효과적으로 네이버 클라우드 플랫폼의 포털 및 ...                                        \n",
       "3      네이버 클라우드 플랫폼에서는 포털 및 콘솔에 대한 고객의 이해를 돕기 위해 사용 가...                                        \n",
       "4      사용 가이드를 읽기 전 자주 하는 질문에 대한 답변으로 궁금증을 빠르게 해소할 수 ...                                        \n",
       "...                                                  ...                                        \n",
       "15468                     스토리지 또는 클라우드 환경 간에 데이터를 이관하는 것                                        \n",
       "15469              좀 더 효율적인 서비스 구축 지원을 위해 주요 거점에 구축한 인프라                                        \n",
       "15470                  데이터 저장 공간. 연관된 객체들을 그루핑한 최상위 디렉터리                                        \n",
       "15471  App Safer API 호출 시 사용자 및 앱 인증을 위한 확인 장치\\n\\n참고\\...                                        \n",
       "15472  Classic/VPC 환경에서 이용 가능합니다.\\n\\nObject Migration...                                        \n",
       "\n",
       "      미사용: v\\n숫자가 동일하면 결합 수정작업자  코드 여부              비고  \n",
       "0                       v   NaN    NaN             NaN  \n",
       "1                       v   NaN    NaN             NaN  \n",
       "2                       v   NaN    NaN  고객지원 링크 404 에러  \n",
       "3                       v   NaN    NaN             NaN  \n",
       "4                     NaN   NaN    NaN             NaN  \n",
       "...                   ...   ...    ...             ...  \n",
       "15468               99999   박근영    NaN             NaN  \n",
       "15469               99999   박근영    NaN             NaN  \n",
       "15470               99999   박근영    NaN             NaN  \n",
       "15471               99999   박근영    NaN             NaN  \n",
       "15472                   v   박근영    NaN             NaN  \n",
       "\n",
       "[15473 rows x 11 columns]"
      ]
     },
     "execution_count": 44,
     "metadata": {},
     "output_type": "execute_result"
    }
   ],
   "source": [
    "df"
   ]
  },
  {
   "cell_type": "markdown",
   "metadata": {},
   "source": [
    "PT 작업 시에 '미사용: v\\n숫자가 동일하면 결합' 열에서 숫자가 동일하면 하나의 문서로 연결하는 것으로 간주하고 작업했었습니다. 또한 검토 결과 검색에 사용하지 않아야 될 내용일 경우에는 'v' 체크를 했었습니다.  \n",
    "따라서 아래의 코드는 사용하지 않을 문서를 제거하는 코드입니다."
   ]
  },
  {
   "cell_type": "code",
   "execution_count": 45,
   "metadata": {},
   "outputs": [],
   "source": [
    "df = df[df['미사용: v\\n숫자가 동일하면 결합'] !='v']"
   ]
  },
  {
   "cell_type": "code",
   "execution_count": 46,
   "metadata": {},
   "outputs": [],
   "source": [
    "def change_text(text):\n",
    "    if text == '-':\n",
    "        return ''"
   ]
  },
  {
   "cell_type": "code",
   "execution_count": 47,
   "metadata": {},
   "outputs": [
    {
     "name": "stderr",
     "output_type": "stream",
     "text": [
      "/tmp/ipykernel_77735/1628753652.py:1: SettingWithCopyWarning: \n",
      "A value is trying to be set on a copy of a slice from a DataFrame.\n",
      "Try using .loc[row_indexer,col_indexer] = value instead\n",
      "\n",
      "See the caveats in the documentation: https://pandas.pydata.org/pandas-docs/stable/user_guide/indexing.html#returning-a-view-versus-a-copy\n",
      "  df['페이지 내의 상하위 관계\\n\\n(B셀에 언급된 페이지 제목은 적지 않으며\\n대제목 중제목 소제목 순으로 기재합니다.\\n현재 내용이 어디 내용인지를 알기 위함입니다.)'] = df['페이지 내의 상하위 관계\\n\\n(B셀에 언급된 페이지 제목은 적지 않으며\\n대제목 중제목 소제목 순으로 기재합니다.\\n현재 내용이 어디 내용인지를 알기 위함입니다.)'].apply(change_text)\n"
     ]
    }
   ],
   "source": [
    "df['페이지 내의 상하위 관계\\n\\n(B셀에 언급된 페이지 제목은 적지 않으며\\n대제목 중제목 소제목 순으로 기재합니다.\\n현재 내용이 어디 내용인지를 알기 위함입니다.)'] = df['페이지 내의 상하위 관계\\n\\n(B셀에 언급된 페이지 제목은 적지 않으며\\n대제목 중제목 소제목 순으로 기재합니다.\\n현재 내용이 어디 내용인지를 알기 위함입니다.)'].apply(change_text)"
   ]
  },
  {
   "cell_type": "code",
   "execution_count": 48,
   "metadata": {},
   "outputs": [
    {
     "name": "stderr",
     "output_type": "stream",
     "text": [
      "/tmp/ipykernel_77735/1473906119.py:1: SettingWithCopyWarning: \n",
      "A value is trying to be set on a copy of a slice from a DataFrame.\n",
      "Try using .loc[row_indexer,col_indexer] = value instead\n",
      "\n",
      "See the caveats in the documentation: https://pandas.pydata.org/pandas-docs/stable/user_guide/indexing.html#returning-a-view-versus-a-copy\n",
      "  df['menu'] = df['좌측 메뉴 상의 상하위 관계']\n",
      "/tmp/ipykernel_77735/1473906119.py:2: SettingWithCopyWarning: \n",
      "A value is trying to be set on a copy of a slice from a DataFrame.\n",
      "Try using .loc[row_indexer,col_indexer] = value instead\n",
      "\n",
      "See the caveats in the documentation: https://pandas.pydata.org/pandas-docs/stable/user_guide/indexing.html#returning-a-view-versus-a-copy\n",
      "  df['subtitle'] = df['페이지 내의 상하위 관계\\n\\n(B셀에 언급된 페이지 제목은 적지 않으며\\n대제목 중제목 소제목 순으로 기재합니다.\\n현재 내용이 어디 내용인지를 알기 위함입니다.)']\n",
      "/tmp/ipykernel_77735/1473906119.py:3: SettingWithCopyWarning: \n",
      "A value is trying to be set on a copy of a slice from a DataFrame.\n",
      "Try using .loc[row_indexer,col_indexer] = value instead\n",
      "\n",
      "See the caveats in the documentation: https://pandas.pydata.org/pandas-docs/stable/user_guide/indexing.html#returning-a-view-versus-a-copy\n",
      "  df['content'] = df['내용 (문맥 별로 분리해서 적습니다. 단, 너무 길 경우에는 여러 개로 나눠도 됩니다. C셀에 페이지 상하위 관계만 잘 적어주세요.)']\n",
      "/tmp/ipykernel_77735/1473906119.py:4: SettingWithCopyWarning: \n",
      "A value is trying to be set on a copy of a slice from a DataFrame.\n",
      "Try using .loc[row_indexer,col_indexer] = value instead\n",
      "\n",
      "See the caveats in the documentation: https://pandas.pydata.org/pandas-docs/stable/user_guide/indexing.html#returning-a-view-versus-a-copy\n",
      "  df['check'] = df['미사용: v\\n숫자가 동일하면 결합']\n"
     ]
    }
   ],
   "source": [
    "df['menu'] = df['좌측 메뉴 상의 상하위 관계']\n",
    "df['subtitle'] = df['페이지 내의 상하위 관계\\n\\n(B셀에 언급된 페이지 제목은 적지 않으며\\n대제목 중제목 소제목 순으로 기재합니다.\\n현재 내용이 어디 내용인지를 알기 위함입니다.)']\n",
    "df['content'] = df['내용 (문맥 별로 분리해서 적습니다. 단, 너무 길 경우에는 여러 개로 나눠도 됩니다. C셀에 페이지 상하위 관계만 잘 적어주세요.)']\n",
    "df['check'] = df['미사용: v\\n숫자가 동일하면 결합']"
   ]
  },
  {
   "cell_type": "code",
   "execution_count": 49,
   "metadata": {},
   "outputs": [],
   "source": [
    "del df['좌측 메뉴 상의 상하위 관계']\n",
    "del df['페이지 내의 상하위 관계\\n\\n(B셀에 언급된 페이지 제목은 적지 않으며\\n대제목 중제목 소제목 순으로 기재합니다.\\n현재 내용이 어디 내용인지를 알기 위함입니다.)']\n",
    "del df['내용 (문맥 별로 분리해서 적습니다. 단, 너무 길 경우에는 여러 개로 나눠도 됩니다. C셀에 페이지 상하위 관계만 잘 적어주세요.)']\n",
    "del df['미사용: v\\n숫자가 동일하면 결합']"
   ]
  },
  {
   "cell_type": "code",
   "execution_count": 50,
   "metadata": {},
   "outputs": [
    {
     "name": "stderr",
     "output_type": "stream",
     "text": [
      "/tmp/ipykernel_77735/4087382348.py:2: SettingWithCopyWarning: \n",
      "A value is trying to be set on a copy of a slice from a DataFrame.\n",
      "Try using .loc[row_indexer,col_indexer] = value instead\n",
      "\n",
      "See the caveats in the documentation: https://pandas.pydata.org/pandas-docs/stable/user_guide/indexing.html#returning-a-view-versus-a-copy\n",
      "  test_df['c'] = df['menu']\n",
      "/tmp/ipykernel_77735/4087382348.py:3: SettingWithCopyWarning: \n",
      "A value is trying to be set on a copy of a slice from a DataFrame.\n",
      "Try using .loc[row_indexer,col_indexer] = value instead\n",
      "\n",
      "See the caveats in the documentation: https://pandas.pydata.org/pandas-docs/stable/user_guide/indexing.html#returning-a-view-versus-a-copy\n",
      "  test_df['s'] = df['subtitle']\n",
      "/tmp/ipykernel_77735/4087382348.py:4: SettingWithCopyWarning: \n",
      "A value is trying to be set on a copy of a slice from a DataFrame.\n",
      "Try using .loc[row_indexer,col_indexer] = value instead\n",
      "\n",
      "See the caveats in the documentation: https://pandas.pydata.org/pandas-docs/stable/user_guide/indexing.html#returning-a-view-versus-a-copy\n",
      "  test_df['a'] = df['content']\n",
      "/tmp/ipykernel_77735/4087382348.py:5: SettingWithCopyWarning: \n",
      "A value is trying to be set on a copy of a slice from a DataFrame.\n",
      "Try using .loc[row_indexer,col_indexer] = value instead\n",
      "\n",
      "See the caveats in the documentation: https://pandas.pydata.org/pandas-docs/stable/user_guide/indexing.html#returning-a-view-versus-a-copy\n",
      "  test_df['b'] = df['check']\n"
     ]
    }
   ],
   "source": [
    "test_df = df\n",
    "test_df['c'] = df['menu']\n",
    "test_df['s'] = df['subtitle']\n",
    "test_df['a'] = df['content']\n",
    "test_df['b'] = df['check']"
   ]
  },
  {
   "cell_type": "code",
   "execution_count": 51,
   "metadata": {},
   "outputs": [],
   "source": [
    "test_df = test_df.fillna('')"
   ]
  },
  {
   "cell_type": "code",
   "execution_count": 52,
   "metadata": {},
   "outputs": [
    {
     "data": {
      "text/plain": [
       "Index(['idx', '작업자', '주소',\n",
       "       'GPT를 통해 정제한 경우\\n데모에 입력한 원문 텍스트를 입력해주세요\\n(GPT 사용 여부와 관계없이 홈페이지에서 긁어온 데이터 원문을 여기에 입력해주세요)',\n",
       "       '수정작업자', '코드 여부', '비고', 'menu', 'subtitle', 'content', 'check', 'c',\n",
       "       's', 'a', 'b'],\n",
       "      dtype='object')"
      ]
     },
     "execution_count": 52,
     "metadata": {},
     "output_type": "execute_result"
    }
   ],
   "source": [
    "df.columns"
   ]
  },
  {
   "cell_type": "markdown",
   "metadata": {},
   "source": [
    "menu열(좌측 메뉴 상의 상하위 관계), subtitle(페이지 내의 상하위 관계), content(내용) 열을 이어 붙여서 하나의 문서로 만드는 작업을 합니다.  \n",
    "단, check(미사용: v\\n숫자가 동일하면 결합) 열에서 번호가 동일한 경우에는 해당 행들을 이어 붙여서 역시나 하나의 문서로 만드는 작업을 합니다.  \n",
    "\n",
    "아래는 menu, subtitle, content 3개의 열을 이어붙여서 하나의 문서로 만들면서  \n",
    "check 열에서 번호가 동일하면 또 다시 이어붙여서 하나의 문서로 만드는 전처리 코드입니다."
   ]
  },
  {
   "cell_type": "code",
   "execution_count": 53,
   "metadata": {},
   "outputs": [],
   "source": [
    "result = []\n",
    "group = []\n",
    "prev_val = None\n",
    "first_c = None\n",
    "first_s = None\n",
    "\n",
    "def format_s(s_value):\n",
    "   if s_value in ['-', '']:\n",
    "       return s_value\n",
    "   return '<' + s_value + '>'\n",
    "\n",
    "for idx, row in test_df.iterrows():\n",
    "   curr_val = row['b']\n",
    "   \n",
    "   # 빈 값일 때\n",
    "   if curr_val == '':\n",
    "       if group:\n",
    "           result.append('\\n'.join(group))\n",
    "           group = []\n",
    "           first_c = None\n",
    "           first_s = None\n",
    "       result.append(row['c'] + '\\n' + format_s(row['s']) + '\\n' + row['a'])\n",
    "       prev_val = None\n",
    "       continue\n",
    "       \n",
    "   # 연속된 값일 때\n",
    "   if prev_val == curr_val:\n",
    "       # 첫번째 값 이후의 값들은 중복 문자열 제거\n",
    "       if first_c is None:\n",
    "           first_c = row['c']\n",
    "           first_s = row['s']\n",
    "           group.append(row['c'] + '\\n' + format_s(row['s']) + '\\n' + row['a'])\n",
    "       else:\n",
    "           remaining_c = row['c'].replace(first_c, '', 1)\n",
    "           remaining_s = row['s'].replace(first_s, '', 1)\n",
    "           group.append(remaining_c + '\\n' + format_s(remaining_s) + '\\n' + row['a'])\n",
    "   # 새로운 값 시작할 때    \n",
    "   else:\n",
    "       if group:\n",
    "           result.append('\\n'.join(group))\n",
    "       first_c = row['c']\n",
    "       first_s = row['s']\n",
    "       group = [row['c'] + '\\n' + format_s(row['s']) + '\\n' + row['a']]\n",
    "       \n",
    "   # 마지막 항목 처리\n",
    "   if idx == len(test_df)-1:\n",
    "       result.append('\\n'.join(group))\n",
    "       \n",
    "   prev_val = curr_val"
   ]
  },
  {
   "cell_type": "code",
   "execution_count": 54,
   "metadata": {},
   "outputs": [
    {
     "name": "stdout",
     "output_type": "stream",
     "text": [
      "Big Data & Analytics > Search Engine Service > VPC > Search Engine Service 예제 > Logstash를 활용한 Cloud Database(MySQL) 연동\n",
      "\n",
      "네트워크 설정 예제를 소개합니다.\n",
      "\n",
      "\n",
      "DB 관리 > DB User 관리에서 server 대역으로부터 DB User의 접속이 가능하도록 설정해야 합니다.\n",
      "<이미지(https://cdn.document360.io/6998976f-9d95-4df8-b847-d375892b92c2/Images/Documentation/ses-mysql-user-screen_ko.png?sv=2022-11-02&spr=https&st=2024-10-14T12%3A09%3A56Z&se=2024-10-14T12%3A19%3A56Z&sr=c&sp=r&sig=PRvdtmGUOwGsOSTTTApXeqm5HQtGabCXTp%2F9TN8VM3M%3D)>\n",
      "\n",
      "\n",
      "Cloud Data Streaming Service 브로커 노드의 9092번 포트로 접근할 수 있도록 ACG를 설정하는 방법은 다음과 같습니다.\n",
      "\n",
      "1. 네이버 클라우드 플랫폼 콘솔에서 Services > Compute > Server > ACG 메뉴를 차례대로 클릭해 주십시오.\n",
      "2. ACG 목록에서 'cloud-mysql-xxxx'을 선택한 후 [ACG 설정] 버튼을 클릭해 주십시오.\n",
      "3. ACG 규칙을 입력한 후 [추가] 버튼을 클릭해 주십시오.\n",
      "<이미지(https://cdn.document360.io/6998976f-9d95-4df8-b847-d375892b92c2/Images/Documentation/ses-5-4-1-1_ko.png?sv=2022-11-02&spr=https&st=2024-10-14T12%3A09%3A56Z&se=2024-10-14T12%3A19%3A56Z&sr=c&sp=r&sig=PRvdtmGUOwGsOSTTTApXeqm5HQtGabCXTp%2F9TN8VM3M%3D)>\n",
      "  - 프로토콜: TCP\n",
      "  - 접근 소스: Logstash가 실행될 서버의 IP\n",
      "  - 허용 포트: DB에서 설정한 포트(Default: 3306)\n",
      "4. [적용] 버튼을 클릭해 주십시오.\n",
      "\n",
      "Search Engine Service 매니저 노드의 9200번 포트로 접근할 수 있도록 ACG를 설정하는 방법은 다음과 같습니다.\n",
      "\n",
      "1. 네이버 클라우드 플랫폼 콘솔에서 Services > Compute > Server > ACG 메뉴를 차례대로 클릭해 주십시오.\n",
      "2. ACG 목록에서 'searchengine-m-xxxxx'을 선택한 후 [ACG 설정] 버튼을 클릭해 주십시오.\n",
      "3. ACG 규칙을 입력한 후 [추가] 버튼을 클릭해 주십시오.\n",
      "<이미지(https://cdn.document360.io/6998976f-9d95-4df8-b847-d375892b92c2/Images/Documentation/cdss-5-6_ko.png?sv=2022-11-02&spr=https&st=2024-10-14T12%3A09%3A56Z&se=2024-10-14T12%3A19%3A56Z&sr=c&sp=r&sig=PRvdtmGUOwGsOSTTTApXeqm5HQtGabCXTp%2F9TN8VM3M%3D)>\n",
      "  - 프로토콜: TCP\n",
      "  - 접근 소스: Logstash가 실행될 서버의 IP\n",
      "  - 허용 포트: 9200\n"
     ]
    }
   ],
   "source": [
    "print(result[6500])"
   ]
  },
  {
   "cell_type": "code",
   "execution_count": 55,
   "metadata": {},
   "outputs": [
    {
     "data": {
      "text/plain": [
       "7811"
      ]
     },
     "execution_count": 55,
     "metadata": {},
     "output_type": "execute_result"
    }
   ],
   "source": [
    "len(result)"
   ]
  },
  {
   "cell_type": "markdown",
   "metadata": {},
   "source": [
    "## 이미지 주소 제거"
   ]
  },
  {
   "cell_type": "markdown",
   "metadata": {},
   "source": [
    "이제 이미지 주소를 제거하는 코드를 작성합니다."
   ]
  },
  {
   "cell_type": "code",
   "execution_count": 57,
   "metadata": {},
   "outputs": [
    {
     "name": "stdout",
     "output_type": "stream",
     "text": [
      "원본: 안녕하세요 <이미지(https://example.com/image.jpg)> 반갑습니다\n",
      "변경: 안녕하세요 <img> 반갑습니다\n",
      "\n",
      "원본: 테스트 문장입니다\n",
      "변경: 테스트 문장입니다\n",
      "\n",
      "원본: 여기도 <이미지(http://test.com/pic.png)> 이미지가 있어요\n",
      "변경: 여기도 <img> 이미지가 있어요\n",
      "\n"
     ]
    }
   ],
   "source": [
    "import re\n",
    "\n",
    "def remove_image_urls(strings):\n",
    "    \"\"\"\n",
    "    문자열 리스트에서 <이미지(http...)> 패턴의 URL을 제거하는 함수\n",
    "    \n",
    "    Args:\n",
    "        strings (list): 처리할 문자열 리스트\n",
    "    \n",
    "    Returns:\n",
    "        list: URL이 제거된 새로운 문자열 리스트\n",
    "    \"\"\"\n",
    "    # <이미지(http...)> 패턴을 찾는 정규표현식\n",
    "    pattern = r'<이미지\\(https?:.*?\\)>'\n",
    "    \n",
    "    # 결과를 저장할 새로운 리스트\n",
    "    cleaned_strings = []\n",
    "    \n",
    "    for s in strings:\n",
    "        # 패턴을 빈 문자열로 치환\n",
    "        cleaned = re.sub(pattern, '<img>', s)\n",
    "        cleaned_strings.append(cleaned)\n",
    "    \n",
    "    return cleaned_strings\n",
    "\n",
    "# 사용 예시\n",
    "test_input = [\n",
    "    \"안녕하세요 <이미지(https://example.com/image.jpg)> 반갑습니다\",\n",
    "    \"테스트 문장입니다\",\n",
    "    \"여기도 <이미지(http://test.com/pic.png)> 이미지가 있어요\"\n",
    "]\n",
    "\n",
    "cleaned_result = remove_image_urls(test_input)\n",
    "for original, cleaned in zip(test_input, cleaned_result):\n",
    "    print(\"원본:\", original)\n",
    "    print(\"변경:\", cleaned)\n",
    "    print()"
   ]
  },
  {
   "cell_type": "code",
   "execution_count": 58,
   "metadata": {},
   "outputs": [],
   "source": [
    "result2 = remove_image_urls(result)"
   ]
  },
  {
   "cell_type": "markdown",
   "metadata": {},
   "source": [
    "이 시점에서 result에는 이미지 주소가 삭제되지 않은 버전이고, result2는 이미지 주소가 삭제된 버전의 문서들입니다."
   ]
  },
  {
   "cell_type": "code",
   "execution_count": 61,
   "metadata": {},
   "outputs": [
    {
     "name": "stdout",
     "output_type": "stream",
     "text": [
      "데이터프레임 미리보기:\n",
      "                                              result  \\\n",
      "0  포털 및 콘솔 > 포털 및 콘솔 개요\\n\\n사용 가이드를 읽기 전 자주 하는 질문에...   \n",
      "1  포털 및 콘솔 > 포털 > 포털 화면\\n\\n네이버 클라우드 플랫폼에 회원 가입 시 ...   \n",
      "2  포털 및 콘솔 > 포털 > 서비스\\n\\n각 서비스별 정보를 확인하는 방법은 다음과 ...   \n",
      "3  포털 및 콘솔 > 포털 > 마켓플레이스\\n\\n마켓플레이스에서는 고객의 다양하고 복잡...   \n",
      "4  포털 및 콘솔 > 포털 > 요금 > 요금 소개\\n\\n네이버 클라우드 플랫폼의 서비스...   \n",
      "\n",
      "                                             result2  \n",
      "0  포털 및 콘솔 > 포털 및 콘솔 개요\\n\\n사용 가이드를 읽기 전 자주 하는 질문에...  \n",
      "1  포털 및 콘솔 > 포털 > 포털 화면\\n\\n네이버 클라우드 플랫폼에 회원 가입 시 ...  \n",
      "2  포털 및 콘솔 > 포털 > 서비스\\n\\n각 서비스별 정보를 확인하는 방법은 다음과 ...  \n",
      "3  포털 및 콘솔 > 포털 > 마켓플레이스\\n\\n마켓플레이스에서는 고객의 다양하고 복잡...  \n",
      "4  포털 및 콘솔 > 포털 > 요금 > 요금 소개\\n\\n네이버 클라우드 플랫폼의 서비스...  \n",
      "\n",
      "데이터프레임 정보:\n",
      "<class 'pandas.core.frame.DataFrame'>\n",
      "RangeIndex: 7811 entries, 0 to 7810\n",
      "Data columns (total 2 columns):\n",
      " #   Column   Non-Null Count  Dtype \n",
      "---  ------   --------------  ----- \n",
      " 0   result   7811 non-null   object\n",
      " 1   result2  7811 non-null   object\n",
      "dtypes: object(2)\n",
      "memory usage: 122.2+ KB\n",
      "None\n"
     ]
    }
   ],
   "source": [
    "# 두 리스트를 딕셔너리로 변환하여 데이터프레임 생성\n",
    "df = pd.DataFrame({\n",
    "    'result': result,\n",
    "    'result2': result2\n",
    "})\n",
    "\n",
    "# 데이터프레임 확인\n",
    "print(\"데이터프레임 미리보기:\")\n",
    "print(df.head())\n",
    "\n",
    "print(\"\\n데이터프레임 정보:\")\n",
    "print(df.info())"
   ]
  },
  {
   "cell_type": "code",
   "execution_count": 60,
   "metadata": {},
   "outputs": [],
   "source": [
    "def replace_content(text):\n",
    "    return text.replace('Classic/VPC 환경에서 이용 가능합니다.\\n\\n', '--아래의 내용은 네이버클라우드 환경 중 Classic 환경과 VPC 환경 모두에서 해당됩니다.--\\n\\n') \\\n",
    "            .replace('Classic/VPC 환경에서 이용 가능합니다.\\n', '--아래의 내용은 네이버클라우드 환경 중 Classic 환경과 VPC 환경 모두에서 해당됩니다.--\\n') \\\n",
    "            .replace('VPC 환경에서 이용 가능합니다.\\n', '--아래의 내용은 네이버클라우드 환경 중 VPC 환경에서 해당됩니다.--\\n') \\\n",
    "            .replace('Classic/VPC 환경에서 이용 가능합니다.', '--아래의 내용은 네이버클라우드 환경 중 Classic 환경과 VPC 환경 모두에서 해당됩합니다.--') \\\n",
    "            .replace('VPC 환경에서 이용 가능합니다.', '--아래의 내용은 네이버클라우드 환경 중 VPC 환경에서 해당됩니다.--') \\\n",
    "            .replace('Classic/VPC 환경에서 이용 가능합니다 .\\n\\n','--아래의 내용은 네이버클라우드 환경 중 Classic 환경과 VPC 환경 모두에서 해당됩니다.--\\n\\n') \\\n",
    "            .replace('Classic/VPC 환경에서 이용 가능합니다 .','--아래의 내용은 네이버클라우드 환경 중 Classic 환경과 VPC 환경 모두에서 해당됩니다.--') \\\n",
    "            .replace('\\nVPC 환경에서 이용 가능합니다 .','\\n--아래의 내용은 네이버클라우드 환경 중 VPC 환경에 해당됩니다.--') \\\n",
    "            .replace('\\nClassic 환경에서 이용 가능합니다 .','\\n--아래의 내용은 네이버클라우드 환경 중 Classic 환경에 해당됩니다.--') \\\n",
    "            .replace('\\nClassic 환경에서 이용 가능합니다.','\\n--아래의 내용은 네이버클라우드 환경 중 Classic 환경에 해당됩니다.--')"
   ]
  },
  {
   "cell_type": "code",
   "execution_count": 59,
   "metadata": {},
   "outputs": [],
   "source": [
    "def replace_str(text):\n",
    "    return text.replace('Classic/VPC 환경에서 이용 가능합니다.\\n\\n', '').replace('Classic/VPC 환경에서 이용 가능합니다.\\n', '').replace('VPC 환경에서 이용 가능합니다.\\n', '').replace('Classic/VPC 환경에서 이용 가능합니다.', '').replace('VPC 환경에서 이용 가능합니다.', '').replace('Classic/VPC 환경에서 이용 가능합니다 .\\n\\n','').replace('Classic/VPC 환경에서 이용 가능합니다 .','')"
   ]
  },
  {
   "cell_type": "code",
   "execution_count": 63,
   "metadata": {},
   "outputs": [],
   "source": [
    "def add_content(text):\n",
    "    first_sent = text.split('\\n')[0]\n",
    "    if '> VPC >' in first_sent:\n",
    "        if 'VPC 환경' not in text:\n",
    "            text = text.replace(first_sent, '이 글은 다음의 주제와 관련된 글입니다: [' + first_sent + ']' + '\\n' + '\\n아래의 글은 네이버 클라우드 환경 중 VPC 환경에 해당되는 글입니다.')\n",
    "    else:\n",
    "        text = text.replace(first_sent, '이 글은 다음의 주제와 관련된 글입니다: [' + first_sent + ']')\n",
    "            \n",
    "    return text"
   ]
  },
  {
   "cell_type": "markdown",
   "metadata": {},
   "source": [
    "result2에서만 전처리 코드들을 모두 적용합니다."
   ]
  },
  {
   "cell_type": "code",
   "execution_count": 64,
   "metadata": {},
   "outputs": [],
   "source": [
    "# 전처리 코드들을 result2에서만 모두 적용\n",
    "df['result2'] = df['result2'].apply(replace_content)\n",
    "df['result2'] = df['result2'].apply(add_content)"
   ]
  },
  {
   "cell_type": "code",
   "execution_count": 65,
   "metadata": {},
   "outputs": [
    {
     "name": "stdout",
     "output_type": "stream",
     "text": [
      "이 글은 다음의 주제와 관련된 글입니다: [Business Applications > Ncloud Chat > Ncloud Chat 사용 > 고정 메시지]\n",
      "\n",
      "--아래의 내용은 네이버클라우드 환경 중 Classic 환경과 VPC 환경 모두에서 해당됩니다.--\n",
      "\n",
      "\n",
      "채팅에서 고정메시지(Pinned Message)는 채팅방이나 그룹 대화에서 중요한 메시지를 채널이나 대화창의 상단에 고정하는 기능을 말합니다. 이 기능은 참가자들이 해당 채팅을 열 때마다 쉽게 볼 수 있도록 하여 중요한 정보나 알림을 놓치지 않도록 도와줍니다. 다음은 고정메시지의 주요 특징과 활용 방법에 대한 설명입니다.\n",
      "\n",
      "채팅에서 고정메시지(Pinned Message)는 채팅방이나 그룹 대화에서 중요한 메시지를 채널이나 대화창의 상단에 고정하는 기능을 말합니다. 이 기능은 참가자들이 해당 채팅을 열 때마다 쉽게 볼 수 있도록 하여 중요한 정보나 알림을 놓치지 않도록 도와줍니다. 다음은 고정메시지의 주요 특징과 활용 방법에 대한 설명입니다.\n",
      "\n",
      "\n",
      "- 회의 일정 공지: 정기 회의나 중요 이벤트의 일정을 고정메시지로 설정하여 참여자들이 일정을 잊지 않도록 합니다.\n",
      "- 중요 문서 링크: 중요한 문서나 자료의 링크를 고정하여 모든 참가자가 쉽게 접근할 수 있도록 합니다.\n",
      "- 규칙 및 지침 공유: 채팅방의 규칙이나 프로젝트 지침을 고정메시지로 설정하여 새로운 참가자도 쉽게 지침을 확인할 수 있게 합니다.\n",
      "- 긴급 공지: 긴급하게 전달해야 할 내용이나 변경 사항을 고정메시지로 빠르게 공유할 수 있습니다.\n",
      "\n",
      "고정메시지 기능은 다양한 커뮤니케이션 플랫폼에서 제공되며, 이를 효과적으로 활용하면 팀 커뮤니케이션의 효율성을 크게 높일 수 있습니다.\n"
     ]
    }
   ],
   "source": [
    "# result2가 이미지 URL 제거 버전\n",
    "print(df['result2'].loc[2510])"
   ]
  },
  {
   "cell_type": "code",
   "execution_count": 69,
   "metadata": {},
   "outputs": [
    {
     "name": "stdout",
     "output_type": "stream",
     "text": [
      "이 글은 다음의 주제와 관련된 글입니다: [AI services > CLOVA OCR > CLOVA OCR 개요]\n",
      "\n",
      "--아래의 내용은 네이버클라우드 환경 중 Classic 환경과 VPC 환경 모두에서 해당됩니다.--\n",
      "\n",
      "CLOVA OCR은 전송한 문서나 이미지를 인식하여 사용자가 지정한 영역의 텍스트와 데이터를 정확하게 추출하는 네이버 클라우드 플랫폼의 서비스입니다. OCR 분야 가장 권위있는 글로벌 챌린지 ICDAR2019 4개 분야에서 1위, CVPR 및 ICCV 국제학회 논문 선정 등 독보적 기술력이 집약된 문자에 대한 높은 인식률을 자랑하는 CLOVA OCR은 미리 등록한 템플릿과의 유사도를 통해 사용자의 개입 없이 문서 자동 분류가 가능하기 때문에 효과적인 업무 워크플로우 설계에도 활용이 가능합니다. 또한 Papago와 같은 서비스와의 연계를 통해 차별화된 서비스를 제공할 수 있습니다.\n",
      "\n",
      "\n",
      "CLOVA OCR이 제공하는 다양한 기능에 대한 설명은 다음과 같습니다.\n",
      "\n",
      "이미지나 문서에서 인식 결과를 추출: 문서를 인식하고 사용자가 지정한 영역의 텍스트와 데이터를 정확하게 추출\n",
      "문서 처리 자동화와 액션 연동: 등록된 템플릿과의 유사도를 통해 문서를 자동 분류하여 효과적인 업무 워크플로우 설계\n",
      "인식 결과 검증 프로세스: 인식된 결과값을 검증할 수 있어 반복 검증 업무를 줄이고 신뢰도 향상\n",
      "다양한 서비스에 연계하여 활용 가능하도록 쉽고 간편한 Restful API 제공: 인식에 사용할 언어와 이미지 데이터를 입력받고, 그에 맞는 인식 결과를 텍스트로 반환\n"
     ]
    }
   ],
   "source": [
    "r = df['result2'][7348]\n",
    "print(r)"
   ]
  },
  {
   "cell_type": "markdown",
   "metadata": {},
   "source": [
    "클라우드 공식 문서를 result와 result2(이미지 주소 제거 및 추가 전처리가 된 문서) 두 개의 열로 데이터를 저장합니다."
   ]
  },
  {
   "cell_type": "code",
   "execution_count": 70,
   "metadata": {},
   "outputs": [],
   "source": [
    "df.to_csv('/mnt/hdd-nfs/vcx/Document-Intelligence/logicker/repo/di-flow-bb5/di-flow/src/diflow/langchain/preprocess/ncloudcs_1209/ncloud_docs_1209.csv', index=False)"
   ]
  },
  {
   "cell_type": "markdown",
   "metadata": {},
   "source": [
    "길이가 지나치게 긴 문서는 포기합니다."
   ]
  },
  {
   "cell_type": "code",
   "execution_count": 71,
   "metadata": {},
   "outputs": [],
   "source": [
    "df['content_len'] = df['result2'].str.len()\n",
    "\n",
    "df = df[df['content_len'] < 30000].reset_index(drop=True)"
   ]
  },
  {
   "cell_type": "code",
   "execution_count": 72,
   "metadata": {},
   "outputs": [
    {
     "data": {
      "text/html": [
       "<div>\n",
       "<style scoped>\n",
       "    .dataframe tbody tr th:only-of-type {\n",
       "        vertical-align: middle;\n",
       "    }\n",
       "\n",
       "    .dataframe tbody tr th {\n",
       "        vertical-align: top;\n",
       "    }\n",
       "\n",
       "    .dataframe thead th {\n",
       "        text-align: right;\n",
       "    }\n",
       "</style>\n",
       "<table border=\"1\" class=\"dataframe\">\n",
       "  <thead>\n",
       "    <tr style=\"text-align: right;\">\n",
       "      <th></th>\n",
       "      <th>result</th>\n",
       "      <th>result2</th>\n",
       "      <th>content_len</th>\n",
       "    </tr>\n",
       "  </thead>\n",
       "  <tbody>\n",
       "    <tr>\n",
       "      <th>0</th>\n",
       "      <td>포털 및 콘솔 &gt; 포털 및 콘솔 개요\\n\\n사용 가이드를 읽기 전 자주 하는 질문에...</td>\n",
       "      <td>이 글은 다음의 주제와 관련된 글입니다: [포털 및 콘솔 &gt; 포털 및 콘솔 개요]\\...</td>\n",
       "      <td>2180</td>\n",
       "    </tr>\n",
       "    <tr>\n",
       "      <th>1</th>\n",
       "      <td>포털 및 콘솔 &gt; 포털 &gt; 포털 화면\\n\\n네이버 클라우드 플랫폼에 회원 가입 시 ...</td>\n",
       "      <td>이 글은 다음의 주제와 관련된 글입니다: [포털 및 콘솔 &gt; 포털 &gt; 포털 화면]\\...</td>\n",
       "      <td>671</td>\n",
       "    </tr>\n",
       "    <tr>\n",
       "      <th>2</th>\n",
       "      <td>포털 및 콘솔 &gt; 포털 &gt; 서비스\\n\\n각 서비스별 정보를 확인하는 방법은 다음과 ...</td>\n",
       "      <td>이 글은 다음의 주제와 관련된 글입니다: [포털 및 콘솔 &gt; 포털 &gt; 서비스]\\n\\...</td>\n",
       "      <td>376</td>\n",
       "    </tr>\n",
       "    <tr>\n",
       "      <th>3</th>\n",
       "      <td>포털 및 콘솔 &gt; 포털 &gt; 마켓플레이스\\n\\n마켓플레이스에서는 고객의 다양하고 복잡...</td>\n",
       "      <td>이 글은 다음의 주제와 관련된 글입니다: [포털 및 콘솔 &gt; 포털 &gt; 마켓플레이스]...</td>\n",
       "      <td>952</td>\n",
       "    </tr>\n",
       "    <tr>\n",
       "      <th>4</th>\n",
       "      <td>포털 및 콘솔 &gt; 포털 &gt; 요금 &gt; 요금 소개\\n\\n네이버 클라우드 플랫폼의 서비스...</td>\n",
       "      <td>이 글은 다음의 주제와 관련된 글입니다: [포털 및 콘솔 &gt; 포털 &gt; 요금 &gt; 요금...</td>\n",
       "      <td>572</td>\n",
       "    </tr>\n",
       "    <tr>\n",
       "      <th>...</th>\n",
       "      <td>...</td>\n",
       "      <td>...</td>\n",
       "      <td>...</td>\n",
       "    </tr>\n",
       "    <tr>\n",
       "      <th>7804</th>\n",
       "      <td>Migration &gt; Object Migration &gt; Object Migratio...</td>\n",
       "      <td>이 글은 다음의 주제와 관련된 글입니다: [Migration &gt; Object Mig...</td>\n",
       "      <td>513</td>\n",
       "    </tr>\n",
       "    <tr>\n",
       "      <th>7805</th>\n",
       "      <td>Migration &gt; Object Migration &gt; Object Migratio...</td>\n",
       "      <td>이 글은 다음의 주제와 관련된 글입니다: [Migration &gt; Object Mig...</td>\n",
       "      <td>1984</td>\n",
       "    </tr>\n",
       "    <tr>\n",
       "      <th>7806</th>\n",
       "      <td>Migration &gt; Object Migration &gt; Object Migratio...</td>\n",
       "      <td>이 글은 다음의 주제와 관련된 글입니다: [Migration &gt; Object Mig...</td>\n",
       "      <td>654</td>\n",
       "    </tr>\n",
       "    <tr>\n",
       "      <th>7807</th>\n",
       "      <td>Migration &gt; Object Migration &gt; Object Migratio...</td>\n",
       "      <td>이 글은 다음의 주제와 관련된 글입니다: [Migration &gt; Object Mig...</td>\n",
       "      <td>893</td>\n",
       "    </tr>\n",
       "    <tr>\n",
       "      <th>7808</th>\n",
       "      <td>Migration &gt; Object Migration &gt; Object Migratio...</td>\n",
       "      <td>이 글은 다음의 주제와 관련된 글입니다: [Migration &gt; Object Mig...</td>\n",
       "      <td>2570</td>\n",
       "    </tr>\n",
       "  </tbody>\n",
       "</table>\n",
       "<p>7809 rows × 3 columns</p>\n",
       "</div>"
      ],
      "text/plain": [
       "                                                 result  \\\n",
       "0     포털 및 콘솔 > 포털 및 콘솔 개요\\n\\n사용 가이드를 읽기 전 자주 하는 질문에...   \n",
       "1     포털 및 콘솔 > 포털 > 포털 화면\\n\\n네이버 클라우드 플랫폼에 회원 가입 시 ...   \n",
       "2     포털 및 콘솔 > 포털 > 서비스\\n\\n각 서비스별 정보를 확인하는 방법은 다음과 ...   \n",
       "3     포털 및 콘솔 > 포털 > 마켓플레이스\\n\\n마켓플레이스에서는 고객의 다양하고 복잡...   \n",
       "4     포털 및 콘솔 > 포털 > 요금 > 요금 소개\\n\\n네이버 클라우드 플랫폼의 서비스...   \n",
       "...                                                 ...   \n",
       "7804  Migration > Object Migration > Object Migratio...   \n",
       "7805  Migration > Object Migration > Object Migratio...   \n",
       "7806  Migration > Object Migration > Object Migratio...   \n",
       "7807  Migration > Object Migration > Object Migratio...   \n",
       "7808  Migration > Object Migration > Object Migratio...   \n",
       "\n",
       "                                                result2  content_len  \n",
       "0     이 글은 다음의 주제와 관련된 글입니다: [포털 및 콘솔 > 포털 및 콘솔 개요]\\...         2180  \n",
       "1     이 글은 다음의 주제와 관련된 글입니다: [포털 및 콘솔 > 포털 > 포털 화면]\\...          671  \n",
       "2     이 글은 다음의 주제와 관련된 글입니다: [포털 및 콘솔 > 포털 > 서비스]\\n\\...          376  \n",
       "3     이 글은 다음의 주제와 관련된 글입니다: [포털 및 콘솔 > 포털 > 마켓플레이스]...          952  \n",
       "4     이 글은 다음의 주제와 관련된 글입니다: [포털 및 콘솔 > 포털 > 요금 > 요금...          572  \n",
       "...                                                 ...          ...  \n",
       "7804  이 글은 다음의 주제와 관련된 글입니다: [Migration > Object Mig...          513  \n",
       "7805  이 글은 다음의 주제와 관련된 글입니다: [Migration > Object Mig...         1984  \n",
       "7806  이 글은 다음의 주제와 관련된 글입니다: [Migration > Object Mig...          654  \n",
       "7807  이 글은 다음의 주제와 관련된 글입니다: [Migration > Object Mig...          893  \n",
       "7808  이 글은 다음의 주제와 관련된 글입니다: [Migration > Object Mig...         2570  \n",
       "\n",
       "[7809 rows x 3 columns]"
      ]
     },
     "execution_count": 72,
     "metadata": {},
     "output_type": "execute_result"
    }
   ],
   "source": [
    "df"
   ]
  }
 ],
 "metadata": {
  "kernelspec": {
   "display_name": "soonchan",
   "language": "python",
   "name": "python3"
  },
  "language_info": {
   "codemirror_mode": {
    "name": "ipython",
    "version": 3
   },
   "file_extension": ".py",
   "mimetype": "text/x-python",
   "name": "python",
   "nbconvert_exporter": "python",
   "pygments_lexer": "ipython3",
   "version": "3.11.11"
  }
 },
 "nbformat": 4,
 "nbformat_minor": 2
}
